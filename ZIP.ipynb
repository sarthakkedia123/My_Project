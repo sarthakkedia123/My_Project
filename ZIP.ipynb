{
 "cells": [
  {
   "cell_type": "markdown",
   "id": "4e0263e9",
   "metadata": {},
   "source": [
    "## Import the Libraries"
   ]
  },
  {
   "cell_type": "code",
   "execution_count": 3,
   "id": "7f81d3da",
   "metadata": {},
   "outputs": [],
   "source": [
    "from vevestaX import vevesta as v\n",
    "import pandas as pd"
   ]
  },
  {
   "cell_type": "markdown",
   "id": "44cd2768",
   "metadata": {},
   "source": [
    "## Load the Dataset"
   ]
  },
  {
   "cell_type": "code",
   "execution_count": 4,
   "id": "3488495d",
   "metadata": {},
   "outputs": [
    {
     "data": {
      "text/html": [
       "<div>\n",
       "<style scoped>\n",
       "    .dataframe tbody tr th:only-of-type {\n",
       "        vertical-align: middle;\n",
       "    }\n",
       "\n",
       "    .dataframe tbody tr th {\n",
       "        vertical-align: top;\n",
       "    }\n",
       "\n",
       "    .dataframe thead th {\n",
       "        text-align: right;\n",
       "    }\n",
       "</style>\n",
       "<table border=\"1\" class=\"dataframe\">\n",
       "  <thead>\n",
       "    <tr style=\"text-align: right;\">\n",
       "      <th></th>\n",
       "      <th>LIVE_BAIT</th>\n",
       "      <th>CAMPER</th>\n",
       "      <th>PERSONS</th>\n",
       "      <th>CHILDREN</th>\n",
       "      <th>FISH_COUNT</th>\n",
       "    </tr>\n",
       "  </thead>\n",
       "  <tbody>\n",
       "    <tr>\n",
       "      <th>0</th>\n",
       "      <td>0</td>\n",
       "      <td>0</td>\n",
       "      <td>1</td>\n",
       "      <td>0</td>\n",
       "      <td>0</td>\n",
       "    </tr>\n",
       "    <tr>\n",
       "      <th>1</th>\n",
       "      <td>1</td>\n",
       "      <td>1</td>\n",
       "      <td>1</td>\n",
       "      <td>0</td>\n",
       "      <td>0</td>\n",
       "    </tr>\n",
       "    <tr>\n",
       "      <th>2</th>\n",
       "      <td>1</td>\n",
       "      <td>0</td>\n",
       "      <td>1</td>\n",
       "      <td>0</td>\n",
       "      <td>0</td>\n",
       "    </tr>\n",
       "    <tr>\n",
       "      <th>3</th>\n",
       "      <td>1</td>\n",
       "      <td>1</td>\n",
       "      <td>2</td>\n",
       "      <td>1</td>\n",
       "      <td>0</td>\n",
       "    </tr>\n",
       "    <tr>\n",
       "      <th>4</th>\n",
       "      <td>1</td>\n",
       "      <td>0</td>\n",
       "      <td>1</td>\n",
       "      <td>0</td>\n",
       "      <td>1</td>\n",
       "    </tr>\n",
       "    <tr>\n",
       "      <th>...</th>\n",
       "      <td>...</td>\n",
       "      <td>...</td>\n",
       "      <td>...</td>\n",
       "      <td>...</td>\n",
       "      <td>...</td>\n",
       "    </tr>\n",
       "    <tr>\n",
       "      <th>245</th>\n",
       "      <td>1</td>\n",
       "      <td>1</td>\n",
       "      <td>2</td>\n",
       "      <td>0</td>\n",
       "      <td>0</td>\n",
       "    </tr>\n",
       "    <tr>\n",
       "      <th>246</th>\n",
       "      <td>1</td>\n",
       "      <td>1</td>\n",
       "      <td>4</td>\n",
       "      <td>3</td>\n",
       "      <td>0</td>\n",
       "    </tr>\n",
       "    <tr>\n",
       "      <th>247</th>\n",
       "      <td>1</td>\n",
       "      <td>1</td>\n",
       "      <td>2</td>\n",
       "      <td>1</td>\n",
       "      <td>0</td>\n",
       "    </tr>\n",
       "    <tr>\n",
       "      <th>248</th>\n",
       "      <td>1</td>\n",
       "      <td>1</td>\n",
       "      <td>3</td>\n",
       "      <td>2</td>\n",
       "      <td>0</td>\n",
       "    </tr>\n",
       "    <tr>\n",
       "      <th>249</th>\n",
       "      <td>1</td>\n",
       "      <td>1</td>\n",
       "      <td>2</td>\n",
       "      <td>1</td>\n",
       "      <td>0</td>\n",
       "    </tr>\n",
       "  </tbody>\n",
       "</table>\n",
       "<p>250 rows Ã— 5 columns</p>\n",
       "</div>"
      ],
      "text/plain": [
       "     LIVE_BAIT  CAMPER  PERSONS  CHILDREN  FISH_COUNT\n",
       "0            0       0        1         0           0\n",
       "1            1       1        1         0           0\n",
       "2            1       0        1         0           0\n",
       "3            1       1        2         1           0\n",
       "4            1       0        1         0           1\n",
       "..         ...     ...      ...       ...         ...\n",
       "245          1       1        2         0           0\n",
       "246          1       1        4         3           0\n",
       "247          1       1        2         1           0\n",
       "248          1       1        3         2           0\n",
       "249          1       1        2         1           0\n",
       "\n",
       "[250 rows x 5 columns]"
      ]
     },
     "execution_count": 4,
     "metadata": {},
     "output_type": "execute_result"
    }
   ],
   "source": [
    "df=pd.read_csv('fish.csv')\n",
    "df"
   ]
  },
  {
   "cell_type": "code",
   "execution_count": 5,
   "id": "d54a2656",
   "metadata": {},
   "outputs": [
    {
     "data": {
      "text/plain": [
       "['LIVE_BAIT', 'CAMPER', 'PERSONS', 'CHILDREN', 'FISH_COUNT']"
      ]
     },
     "execution_count": 5,
     "metadata": {},
     "output_type": "execute_result"
    }
   ],
   "source": [
    "#Create an Experiment Object\n",
    "V=v.Experiment(speedUp=False) \n",
    "\n",
    "#In order to track the features/labels Vevesta provide us with a data sourcing function which help us to extract the features/labels used in our data set.\n",
    "V.ds=df\n",
    "#V.dataSourcing=df\n",
    "V.ds"
   ]
  },
  {
   "cell_type": "code",
   "execution_count": 6,
   "id": "231e2749",
   "metadata": {},
   "outputs": [],
   "source": [
    "V.Y='PERSONS'"
   ]
  },
  {
   "cell_type": "markdown",
   "id": "cd6a3693",
   "metadata": {},
   "source": [
    "## Dump the model in the Excel Sheet"
   ]
  },
  {
   "cell_type": "code",
   "execution_count": 7,
   "id": "8aa488e2",
   "metadata": {},
   "outputs": [
    {
     "name": "stderr",
     "output_type": "stream",
     "text": [
      "C:\\Users\\Hp\\Desktop\\Data Sciene\\VevestaX\\new_env_5\\env5\\lib\\site-packages\\seaborn\\distributions.py:316: UserWarning: Dataset has 0 variance; skipping density estimate. Pass `warn_singular=False` to disable this warning.\n",
      "  warnings.warn(msg, UserWarning)\n"
     ]
    },
    {
     "name": "stdout",
     "output_type": "stream",
     "text": [
      "Dumped the experiment in the file ZIP.xlsx\n",
      "Find the right technique for your Machine Learning project at https://www.vevesta.com?utm_source=vevestaX\n"
     ]
    }
   ],
   "source": [
    "#After running the dump or commit function for each run of the code.The features used, features engineered and the variables used in the experiments get logged into the excel file.\n",
    "\n",
    "V.dump(techniqueUsed='ZIP Model',filename=\"ZIP.xlsx\",message=\"Zero Inflated Poisson Model was used\",version=1)\n"
   ]
  },
  {
   "cell_type": "code",
   "execution_count": null,
   "id": "ef96d54c",
   "metadata": {},
   "outputs": [
    {
     "name": "stderr",
     "output_type": "stream",
     "text": [
      "C:\\Users\\Hp\\Desktop\\Data Sciene\\VevestaX\\new_env_5\\env5\\lib\\site-packages\\seaborn\\distributions.py:316: UserWarning: Dataset has 0 variance; skipping density estimate. Pass `warn_singular=False` to disable this warning.\n",
      "  warnings.warn(msg, UserWarning)\n"
     ]
    },
    {
     "name": "stdout",
     "output_type": "stream",
     "text": [
      "Dumped the experiment in the file file_name.xlsx\n"
     ]
    }
   ],
   "source": [
    "V.commit(\n",
    "    techniqueUsed='Zip model',\n",
    "    filename='file_name.xlsx',\n",
    "    message='accuracy',\n",
    "    version=1,\n",
    "    projectId=151,\n",
    "    repoName='My_Project'\n",
    ")"
   ]
  },
  {
   "cell_type": "code",
   "execution_count": null,
   "id": "41dd06bf",
   "metadata": {},
   "outputs": [],
   "source": []
  }
 ],
 "metadata": {
  "kernelspec": {
   "display_name": "env5",
   "language": "python",
   "name": "env5"
  },
  "language_info": {
   "codemirror_mode": {
    "name": "ipython",
    "version": 3
   },
   "file_extension": ".py",
   "mimetype": "text/x-python",
   "name": "python",
   "nbconvert_exporter": "python",
   "pygments_lexer": "ipython3",
   "version": "3.8.0"
  }
 },
 "nbformat": 4,
 "nbformat_minor": 5
}
